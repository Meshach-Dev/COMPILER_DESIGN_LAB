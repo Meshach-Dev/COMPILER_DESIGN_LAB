{
 "cells": [
  {
   "cell_type": "code",
   "execution_count": 51,
   "id": "b6281714-4863-4e55-9729-61df8311033e",
   "metadata": {},
   "outputs": [],
   "source": [
    "import ply.lex as lex\n",
    "import sys"
   ]
  },
  {
   "cell_type": "code",
   "execution_count": 52,
   "id": "e8950941-b8da-45f6-b84c-ea09f8ae0416",
   "metadata": {},
   "outputs": [],
   "source": [
    "tokens = (\n",
    "    'ID','NUMBER','PLUS','MINUS','DIVIDE','LPAREN','RPAREN','MULTIPLY','EQUALS'    \n",
    ")"
   ]
  },
  {
   "cell_type": "code",
   "execution_count": 53,
   "id": "e303e0c3-365f-47ab-80e7-3657c24174b8",
   "metadata": {},
   "outputs": [],
   "source": [
    "t_PLUS = r'\\+'\n",
    "t_MINUS = r'-'\n",
    "t_MULTIPLY = r'\\*'\n",
    "t_DIVIDE = r'/'\n",
    "t_EQUALS = r'='\n",
    "t_LPAREN = r'\\('\n",
    "t_RPAREN = r'\\)'"
   ]
  },
  {
   "cell_type": "code",
   "execution_count": 54,
   "id": "746b0e67-581e-41fd-a359-0f6c17d6b4c2",
   "metadata": {},
   "outputs": [],
   "source": [
    "def t_ID(t):\n",
    "    r'[a-zA-Z_][a-zA-Z0-9_]*'\n",
    "    return t"
   ]
  },
  {
   "cell_type": "code",
   "execution_count": 55,
   "id": "10d9ee14-2563-4c89-be62-d2270ac8afd1",
   "metadata": {},
   "outputs": [],
   "source": [
    "def t_NUMBER(t):\n",
    "    r'\\d+'\n",
    "    t.VALUE = int(t.value)\n",
    "    return t\n"
   ]
  },
  {
   "cell_type": "code",
   "execution_count": 56,
   "id": "c1b22ea6-0843-49b0-a8e2-a2929f1ca636",
   "metadata": {},
   "outputs": [],
   "source": [
    "def t_error(t):\n",
    "    print(f'Illegal Char {t.value[0]} at line {t.lexer.lineno}')\n",
    "    t.lexer.skip(1)"
   ]
  },
  {
   "cell_type": "code",
   "execution_count": 57,
   "id": "7acf8ce3-cbf7-4373-ae0a-39ecac5faf9a",
   "metadata": {},
   "outputs": [],
   "source": [
    "sys.modules['__main__'].__file__ = 'Exp_1.ipynb'\n",
    "lexer = lex.lex()"
   ]
  },
  {
   "cell_type": "code",
   "execution_count": 58,
   "id": "1153686f-6557-427c-87c2-da9872e2c6cf",
   "metadata": {},
   "outputs": [
    {
     "name": "stdin",
     "output_type": "stream",
     "text": [
      "Enter the Char Stream :  A=B+2\n"
     ]
    }
   ],
   "source": [
    "data = input(\"Enter the Char Stream : \")\n",
    "lexer.input(data)"
   ]
  },
  {
   "cell_type": "code",
   "execution_count": 59,
   "id": "9fd66596-fcba-4196-9ff6-8f1eef2205f1",
   "metadata": {},
   "outputs": [
    {
     "name": "stdout",
     "output_type": "stream",
     "text": [
      "ID (A) at line : 1\n",
      "EQUALS (=) at line : 1\n",
      "ID (B) at line : 1\n",
      "PLUS (+) at line : 1\n",
      "NUMBER (2) at line : 1\n"
     ]
    }
   ],
   "source": [
    "while True : \n",
    "    tk = lexer.token()\n",
    "    if not tk:\n",
    "        break\n",
    "    print(f'{tk.type} ({tk.value}) at line : {tk.lineno}')    "
   ]
  },
  {
   "cell_type": "code",
   "execution_count": null,
   "id": "46ec8c9b-fb48-4090-984f-43a0a274ad80",
   "metadata": {},
   "outputs": [],
   "source": []
  },
  {
   "cell_type": "code",
   "execution_count": null,
   "id": "0baf045d-6f56-4ee4-b02c-9d23d997c378",
   "metadata": {},
   "outputs": [],
   "source": []
  }
 ],
 "metadata": {
  "kernelspec": {
   "display_name": "Python 3 (ipykernel)",
   "language": "python",
   "name": "python3"
  },
  "language_info": {
   "codemirror_mode": {
    "name": "ipython",
    "version": 3
   },
   "file_extension": ".py",
   "mimetype": "text/x-python",
   "name": "python",
   "nbconvert_exporter": "python",
   "pygments_lexer": "ipython3",
   "version": "3.12.7"
  }
 },
 "nbformat": 4,
 "nbformat_minor": 5
}
